{
  "nbformat": 4,
  "nbformat_minor": 0,
  "metadata": {
    "colab": {
      "name": "hola.ipynb",
      "version": "0.3.2",
      "provenance": [],
      "toc_visible": true,
      "machine_shape": "hm"
    },
    "kernelspec": {
      "name": "python3",
      "display_name": "Python 3"
    }
  },
  "cells": [
    {
      "cell_type": "markdown",
      "metadata": {
        "id": "CGRXjcwCVHS-",
        "colab_type": "text"
      },
      "source": [
        "In this notebook, we train the RNN model that predicts the pronounciation (as phonemes) given some input word."
      ]
    },
    {
      "cell_type": "code",
      "metadata": {
        "id": "51DKgjEEgx2M",
        "colab_type": "code",
        "colab": {}
      },
      "source": [
        "import json\n",
        "import matplotlib.ticker as ticker\n",
        "import matplotlib.pyplot as plt\n",
        "import numpy as np\n",
        "import random\n",
        "\n",
        "import torch\n",
        "import torch.nn as nn\n",
        "from torch import optim\n",
        "from torch.nn.functional import relu"
      ],
      "execution_count": 0,
      "outputs": []
    },
    {
      "cell_type": "markdown",
      "metadata": {
        "id": "dacmCTw-hifZ",
        "colab_type": "text"
      },
      "source": [
        "Use a CUDA device if available."
      ]
    },
    {
      "cell_type": "code",
      "metadata": {
        "id": "GMUD6n7ohfuE",
        "colab_type": "code",
        "colab": {}
      },
      "source": [
        "device = torch.device(\"cuda\" if torch.cuda.is_available() else \"cpu\")"
      ],
      "execution_count": 0,
      "outputs": []
    },
    {
      "cell_type": "markdown",
      "metadata": {
        "id": "LTfjNaIfQElD",
        "colab_type": "text"
      },
      "source": [
        "# Preparing the Data"
      ]
    },
    {
      "cell_type": "markdown",
      "metadata": {
        "id": "ePqZvenLH7mn",
        "colab_type": "text"
      },
      "source": [
        "We mount our Google Drive to access the data files from within this notebook."
      ]
    },
    {
      "cell_type": "code",
      "metadata": {
        "id": "QrX1HvAWH2xM",
        "colab_type": "code",
        "colab": {}
      },
      "source": [
        "from google.colab import drive\n",
        "\n",
        "mounted_folder_fp = '/content/drive'\n",
        "drive.mount(mounted_folder_fp, force_remount=True)"
      ],
      "execution_count": 0,
      "outputs": []
    },
    {
      "cell_type": "markdown",
      "metadata": {
        "id": "UhzHmMNjOcB6",
        "colab_type": "text"
      },
      "source": [
        "We then load all the JSON files we need from the mounted drive."
      ]
    },
    {
      "cell_type": "code",
      "metadata": {
        "id": "MMuVqd2espNQ",
        "colab_type": "code",
        "colab": {}
      },
      "source": [
        "with open('{}/My Drive/Colab Notebooks/hola/data/cmudict-char-ids.json'.format(mounted_folder_fp), 'r', encoding='ascii') as f:\n",
        "    char_ids_dict = json.load(f)\n",
        "\n",
        "with open('{}/My Drive/Colab Notebooks/hola/data/cmudict-phoneme-ids.json'.format(mounted_folder_fp), 'r', encoding='ascii') as f:\n",
        "    phoneme_ids_dict = json.load(f)\n",
        "\n",
        "with open('{}/My Drive/Colab Notebooks/hola/data/cmudict-processed.json'.format(mounted_folder_fp), 'r', encoding='ascii') as f:\n",
        "    cmudict_pairs = json.load(f)"
      ],
      "execution_count": 0,
      "outputs": []
    },
    {
      "cell_type": "markdown",
      "metadata": {
        "id": "73jb0ZTnfgIF",
        "colab_type": "text"
      },
      "source": [
        "We find the length of the longest word/list of phonemes to define the length of our output PyTorch tensors later."
      ]
    },
    {
      "cell_type": "code",
      "metadata": {
        "id": "FxCI4wUkfpvc",
        "colab_type": "code",
        "colab": {}
      },
      "source": [
        "max_length = max([max(len(pair[0]), len(pair[1])) for pair in cmudict_pairs])"
      ],
      "execution_count": 0,
      "outputs": []
    },
    {
      "cell_type": "markdown",
      "metadata": {
        "id": "rbeHjB2uOjRJ",
        "colab_type": "text"
      },
      "source": [
        "We split our pairs into training and testing sets."
      ]
    },
    {
      "cell_type": "code",
      "metadata": {
        "id": "IbmEVNRoh1G0",
        "colab_type": "code",
        "colab": {}
      },
      "source": [
        "train_proportion = 0.9\n",
        "\n",
        "random.shuffle(cmudict_pairs)\n",
        "cmudict_train = cmudict_pairs[:int(train_proportion * len(cmudict_pairs))]\n",
        "cmudict_test = cmudict_pairs[int(train_proportion * len(cmudict_pairs)):]"
      ],
      "execution_count": 0,
      "outputs": []
    },
    {
      "cell_type": "markdown",
      "metadata": {
        "id": "nmF7A3PNOUoX",
        "colab_type": "text"
      },
      "source": [
        "# Designing the Model"
      ]
    },
    {
      "cell_type": "markdown",
      "metadata": {
        "id": "AJPIvTGzO1s9",
        "colab_type": "text"
      },
      "source": [
        "For model architecture, we use a vanilla encoder-decoder RNN model with GRUs."
      ]
    },
    {
      "cell_type": "code",
      "metadata": {
        "id": "Ya1hhQVuOYct",
        "colab_type": "code",
        "colab": {}
      },
      "source": [
        "class Encoder(nn.Module):\n",
        "    def __init__(self, num_inputs, hidden_size):\n",
        "        super(Encoder, self).__init__()\n",
        "\n",
        "        self.hidden_size = hidden_size\n",
        "        self.embedding = nn.Embedding(num_inputs, hidden_size)\n",
        "        self.gru = nn.GRU(hidden_size, hidden_size)\n",
        "\n",
        "    def forward(self, input, hidden):\n",
        "        output = torch.reshape(self.embedding(input), (1, 1, -1))\n",
        "        output, hidden = self.gru(output, hidden)\n",
        "        return output, hidden\n",
        "\n",
        "    def init_hidden(self):\n",
        "        return torch.zeros(1, 1, self.hidden_size, device=device)"
      ],
      "execution_count": 0,
      "outputs": []
    },
    {
      "cell_type": "code",
      "metadata": {
        "id": "fkJFrhFdSmxw",
        "colab_type": "code",
        "colab": {}
      },
      "source": [
        "class Decoder(nn.Module):\n",
        "    def __init__(self, num_outputs, hidden_size):\n",
        "        super(Decoder, self).__init__()\n",
        "\n",
        "        self.hidden_size = hidden_size\n",
        "        self.embedding = nn.Embedding(num_outputs, hidden_size)\n",
        "        self.gru = nn.GRU(hidden_size, hidden_size)\n",
        "        self.out = nn.Linear(hidden_size, num_outputs)\n",
        "        self.softmax = nn.LogSoftmax(dim=1)\n",
        "\n",
        "    def forward(self, input, hidden):\n",
        "        output = torch.reshape(self.embedding(input), (1, 1, -1))\n",
        "        output = relu(output)\n",
        "        output, hidden = self.gru(output, hidden)\n",
        "        output = self.softmax(self.out(output[0]))\n",
        "        return output, hidden\n",
        "\n",
        "    def init_hidden(self):\n",
        "        return torch.zeros(1, 1, self.hidden_size, device=device)"
      ],
      "execution_count": 0,
      "outputs": []
    },
    {
      "cell_type": "markdown",
      "metadata": {
        "id": "-9UjJY7WjOJd",
        "colab_type": "text"
      },
      "source": [
        "# Training the Model"
      ]
    },
    {
      "cell_type": "markdown",
      "metadata": {
        "id": "BKAqqD_jXwTp",
        "colab_type": "text"
      },
      "source": [
        "The `SOS` and `EOS` tokens will be important later during training, so we give them their special variables now."
      ]
    },
    {
      "cell_type": "code",
      "metadata": {
        "id": "iGevvtY-XvVw",
        "colab_type": "code",
        "colab": {}
      },
      "source": [
        "SOS_token = char_ids_dict['SOS']\n",
        "EOS_token = char_ids_dict['EOS']"
      ],
      "execution_count": 0,
      "outputs": []
    },
    {
      "cell_type": "markdown",
      "metadata": {
        "id": "-6GC5zEmXxDp",
        "colab_type": "text"
      },
      "source": [
        "For training, we invoke teacher forcing at random in order to speed up training."
      ]
    },
    {
      "cell_type": "code",
      "metadata": {
        "id": "syoma2kPYKX2",
        "colab_type": "code",
        "colab": {}
      },
      "source": [
        "teacher_forcing_ratio = 0.5\n",
        "\n",
        "def train(input_tensor, target_tensor, encoder, decoder, encoder_optim, decoder_optim, loss_fn):\n",
        "    loss = 0\n",
        "\n",
        "    input_length = input_tensor.size(0)\n",
        "    target_length = target_tensor.size(0)\n",
        "\n",
        "    encoder_optim.zero_grad()\n",
        "    decoder_optim.zero_grad()\n",
        "\n",
        "    encoder_hidden = encoder.init_hidden()\n",
        "    encoder_outputs = torch.zeros(max_length, encoder.hidden_size, device=device)\n",
        "\n",
        "    for i in range(input_length):\n",
        "        encoder_input = input_tensor[i]\n",
        "        encoder_output, encoder_hidden = encoder(encoder_input, encoder_hidden)\n",
        "        encoder_outputs[i] = encoder_output[0, 0]\n",
        "\n",
        "    decoder_input = torch.tensor([[SOS_token]], device=device)\n",
        "    decoder_hidden = encoder_hidden\n",
        "\n",
        "    if random.random() < teacher_forcing_ratio:  # if True, invoke teacher forcing\n",
        "        for i in range(target_length):\n",
        "            decoder_output, decoder_hidden = decoder(decoder_input, decoder_hidden)\n",
        "            decoder_input = target_tensor[i]\n",
        "            loss += loss_fn(decoder_output, target_tensor[i])\n",
        "    else:\n",
        "        for i in range(target_length):\n",
        "            decoder_output, decoder_hidden = decoder(decoder_input, decoder_hidden)\n",
        "            _, top_index = decoder_output.topk(1)\n",
        "            decoder_input = top_index.squeeze().detach()\n",
        "            loss += loss_fn(decoder_output, target_tensor[i])\n",
        "\n",
        "            if decoder_input.item() == EOS_token:\n",
        "                break\n",
        "\n",
        "    loss.backward()\n",
        "\n",
        "    encoder_optim.step()\n",
        "    decoder_optim.step()\n",
        "\n",
        "    return loss.item() / target_length"
      ],
      "execution_count": 0,
      "outputs": []
    },
    {
      "cell_type": "markdown",
      "metadata": {
        "id": "jk_1J4_hNcNK",
        "colab_type": "text"
      },
      "source": [
        "We want to repeat this training process over our entire training set, simultaneously plotting loss over time."
      ]
    },
    {
      "cell_type": "code",
      "metadata": {
        "id": "iCE3J8COctrQ",
        "colab_type": "code",
        "colab": {}
      },
      "source": [
        "plt.switch_backend('agg')\n",
        "\n",
        "def plot_losses(losses_over_time):\n",
        "    plt.figure()\n",
        "    fig, ax = plt.subplots()\n",
        "    loc = ticker.MultipleLocator(base=0.2)  # puts ticks at regular intervals\n",
        "    ax.yaxis.set_major_locator(loc)\n",
        "    plt.plot(losses_over_time)"
      ],
      "execution_count": 0,
      "outputs": []
    },
    {
      "cell_type": "code",
      "metadata": {
        "id": "_HQPigUdV5IV",
        "colab_type": "code",
        "colab": {}
      },
      "source": [
        "def train_epoch(encoder, decoder, plot_every=1000, learning_rate=0.01):\n",
        "    losses_over_time = []\n",
        "    curr_loss = 0\n",
        "\n",
        "    encoder_optimizer = optim.SGD(encoder.parameters(), lr=learning_rate)\n",
        "    decoder_optimizer = optim.SGD(decoder.parameters(), lr=learning_rate)\n",
        "    loss_fn = nn.NLLLoss()\n",
        "\n",
        "    for i in range(len(cmudict_train)):\n",
        "        input_char_ids, target_phoneme_ids = cmudict_train[i]\n",
        "        input_tensor = torch.tensor(input_char_ids, device=device).view(-1, 1)\n",
        "        target_tensor = torch.tensor(target_phoneme_ids, device=device).view(-1, 1)\n",
        "\n",
        "        loss = train(input_tensor, target_tensor, encoder, decoder, encoder_optimizer, decoder_optimizer, loss_fn)\n",
        "        curr_loss += loss\n",
        "\n",
        "        if i != 0 and i % plot_every == 0:\n",
        "            avg_curr_loss = curr_loss / plot_every\n",
        "            losses_over_time.append(avg_curr_loss)\n",
        "            curr_loss = 0\n",
        "            print('ITER {} ({:.2f}%) LOSS: {:.4f}'.format(i, i / len(cmudict_train) * 100, avg_curr_loss))\n",
        "\n",
        "    plot_losses(losses_over_time)"
      ],
      "execution_count": 0,
      "outputs": []
    },
    {
      "cell_type": "markdown",
      "metadata": {
        "id": "180hR4xgkQ5i",
        "colab_type": "text"
      },
      "source": [
        "# Evaluating the Model"
      ]
    },
    {
      "cell_type": "markdown",
      "metadata": {
        "id": "-YN1kamuZGxS",
        "colab_type": "text"
      },
      "source": [
        "It will be important to have a `phoneme_id` to `phoneme` dict, so we set that up now."
      ]
    },
    {
      "cell_type": "code",
      "metadata": {
        "id": "Z4Hnr9EBZHZu",
        "colab_type": "code",
        "colab": {}
      },
      "source": [
        "phoneme_ids_inv_dict = {phoneme_id: phoneme for phoneme, phoneme_id in phoneme_ids_dict.items()}"
      ],
      "execution_count": 0,
      "outputs": []
    },
    {
      "cell_type": "markdown",
      "metadata": {
        "id": "LXUQaSn4keYv",
        "colab_type": "text"
      },
      "source": [
        "We use accuracy as the metric to evaluate our model."
      ]
    },
    {
      "cell_type": "code",
      "metadata": {
        "id": "ff1ymJ23cnuq",
        "colab_type": "code",
        "colab": {}
      },
      "source": [
        "def predict(input_tensor, encoder, decoder):\n",
        "    decoded_phonemes = []\n",
        "    with torch.no_grad():\n",
        "        input_length = input_tensor.size(0)\n",
        "\n",
        "        encoder_hidden = encoder.init_hidden()\n",
        "        encoder_outputs = torch.zeros(max_length, encoder.hidden_size, device=device)\n",
        "\n",
        "        for i in range(input_length):\n",
        "            encoder_output, encoder_hidden = encoder(input_tensor[i], encoder_hidden)\n",
        "            encoder_outputs[i] = encoder_output[0, 0]  # = or +=?\n",
        "\n",
        "        decoder_input = torch.tensor([[SOS_token]], device=device)\n",
        "        decoder_hidden = encoder_hidden\n",
        "\n",
        "        for i in range(max_length):\n",
        "            decoder_output, decoder_hidden = decoder(decoder_input, decoder_hidden)\n",
        "            _, top_index = decoder_output.topk(1)\n",
        "            decoder_input = top_index.squeeze().detach()\n",
        "            if decoder_input.item() == EOS_token:\n",
        "                decoded_phonemes.append(phoneme_ids_inv_dict[EOS_token])\n",
        "                break\n",
        "            else:\n",
        "                decoded_phonemes.append(phoneme_ids_inv_dict[decoder_input.item()])\n",
        "\n",
        "    return decoded_phonemes"
      ],
      "execution_count": 0,
      "outputs": []
    },
    {
      "cell_type": "code",
      "metadata": {
        "id": "yL-SIu5LkT2v",
        "colab_type": "code",
        "colab": {}
      },
      "source": [
        "def evaluate(encoder, decoder):\n",
        "    correct = 0\n",
        "    with torch.no_grad():\n",
        "        for i in range(len(cmudict_test)):\n",
        "            input_char_ids, target_phoneme_ids = cmudict_test[i]\n",
        "            input_tensor = torch.tensor(input_char_ids, device=device).view(-1, 1)\n",
        "\n",
        "            predicted_phonemes = predict(input_tensor, encoder, decoder)\n",
        "            actual_phonemes = [phoneme_ids_inv_dict[phoneme_id] for phoneme_id in target_phoneme_ids]\n",
        "            if predicted_phonemes == actual_phonemes:\n",
        "                correct += 1\n",
        "\n",
        "    print('ACCURACY: {:.4f}'.format(correct / len(cmudict_test)))"
      ],
      "execution_count": 0,
      "outputs": []
    },
    {
      "cell_type": "markdown",
      "metadata": {
        "id": "2vPEQOqlkU6A",
        "colab_type": "text"
      },
      "source": [
        "# Putting it all Together!"
      ]
    },
    {
      "cell_type": "code",
      "metadata": {
        "id": "rwCiIUGffOf4",
        "colab_type": "code",
        "colab": {
          "base_uri": "https://localhost:8080/",
          "height": 1000
        },
        "outputId": "553b4594-9dcd-4e43-c2b8-bcec1a3af2d6"
      },
      "source": [
        "hidden_size = 64\n",
        "\n",
        "encoder = Encoder(len(cmudict_train), hidden_size).to(device)\n",
        "decoder = Decoder(len(cmudict_train), hidden_size).to(device)\n",
        "\n",
        "train_epoch(encoder, decoder)"
      ],
      "execution_count": 18,
      "outputs": [
        {
          "output_type": "stream",
          "text": [
            "ITER 1000 (0.83%) LOSS: 3.6251\n",
            "ITER 2000 (1.66%) LOSS: 3.0569\n",
            "ITER 3000 (2.49%) LOSS: 2.9868\n",
            "ITER 4000 (3.32%) LOSS: 2.9624\n",
            "ITER 5000 (4.15%) LOSS: 2.8811\n",
            "ITER 6000 (4.98%) LOSS: 2.8651\n",
            "ITER 7000 (5.81%) LOSS: 2.8356\n",
            "ITER 8000 (6.64%) LOSS: 2.7948\n",
            "ITER 9000 (7.47%) LOSS: 2.6926\n",
            "ITER 10000 (8.30%) LOSS: 2.7211\n",
            "ITER 11000 (9.13%) LOSS: 2.6522\n",
            "ITER 12000 (9.96%) LOSS: 2.6069\n",
            "ITER 13000 (10.79%) LOSS: 2.5510\n",
            "ITER 14000 (11.62%) LOSS: 2.4768\n",
            "ITER 15000 (12.45%) LOSS: 2.4415\n",
            "ITER 16000 (13.28%) LOSS: 2.3451\n",
            "ITER 17000 (14.11%) LOSS: 2.3587\n",
            "ITER 18000 (14.94%) LOSS: 2.2567\n",
            "ITER 19000 (15.77%) LOSS: 2.2251\n",
            "ITER 20000 (16.60%) LOSS: 2.1500\n",
            "ITER 21000 (17.43%) LOSS: 2.1660\n",
            "ITER 22000 (18.26%) LOSS: 2.0576\n",
            "ITER 23000 (19.09%) LOSS: 2.0352\n",
            "ITER 24000 (19.92%) LOSS: 1.9705\n",
            "ITER 25000 (20.75%) LOSS: 1.9680\n",
            "ITER 26000 (21.58%) LOSS: 1.8707\n",
            "ITER 27000 (22.41%) LOSS: 1.8895\n",
            "ITER 28000 (23.24%) LOSS: 1.7809\n",
            "ITER 29000 (24.07%) LOSS: 1.7808\n",
            "ITER 30000 (24.90%) LOSS: 1.7507\n",
            "ITER 31000 (25.73%) LOSS: 1.7061\n",
            "ITER 32000 (26.56%) LOSS: 1.6741\n",
            "ITER 33000 (27.39%) LOSS: 1.6681\n",
            "ITER 34000 (28.22%) LOSS: 1.5753\n",
            "ITER 35000 (29.05%) LOSS: 1.6231\n",
            "ITER 36000 (29.88%) LOSS: 1.5101\n",
            "ITER 37000 (30.71%) LOSS: 1.5460\n",
            "ITER 38000 (31.54%) LOSS: 1.6038\n",
            "ITER 39000 (32.37%) LOSS: 1.4913\n",
            "ITER 40000 (33.20%) LOSS: 1.5179\n",
            "ITER 41000 (34.03%) LOSS: 1.4889\n",
            "ITER 42000 (34.86%) LOSS: 1.4369\n",
            "ITER 43000 (35.69%) LOSS: 1.4806\n",
            "ITER 44000 (36.52%) LOSS: 1.4563\n",
            "ITER 45000 (37.35%) LOSS: 1.4583\n",
            "ITER 46000 (38.18%) LOSS: 1.4346\n",
            "ITER 47000 (39.01%) LOSS: 1.4039\n",
            "ITER 48000 (39.84%) LOSS: 1.4254\n",
            "ITER 49000 (40.67%) LOSS: 1.3511\n",
            "ITER 50000 (41.50%) LOSS: 1.3831\n",
            "ITER 51000 (42.33%) LOSS: 1.3600\n",
            "ITER 52000 (43.16%) LOSS: 1.3713\n",
            "ITER 53000 (44.00%) LOSS: 1.3713\n",
            "ITER 54000 (44.83%) LOSS: 1.3086\n",
            "ITER 55000 (45.66%) LOSS: 1.3354\n",
            "ITER 56000 (46.49%) LOSS: 1.3262\n",
            "ITER 57000 (47.32%) LOSS: 1.3132\n",
            "ITER 58000 (48.15%) LOSS: 1.2675\n",
            "ITER 59000 (48.98%) LOSS: 1.3143\n",
            "ITER 60000 (49.81%) LOSS: 1.3242\n",
            "ITER 61000 (50.64%) LOSS: 1.2747\n",
            "ITER 62000 (51.47%) LOSS: 1.2690\n",
            "ITER 63000 (52.30%) LOSS: 1.2850\n",
            "ITER 64000 (53.13%) LOSS: 1.3097\n",
            "ITER 65000 (53.96%) LOSS: 1.2319\n",
            "ITER 66000 (54.79%) LOSS: 1.2623\n",
            "ITER 67000 (55.62%) LOSS: 1.2655\n",
            "ITER 68000 (56.45%) LOSS: 1.2765\n",
            "ITER 69000 (57.28%) LOSS: 1.2548\n",
            "ITER 70000 (58.11%) LOSS: 1.2706\n",
            "ITER 71000 (58.94%) LOSS: 1.2260\n",
            "ITER 72000 (59.77%) LOSS: 1.2709\n",
            "ITER 73000 (60.60%) LOSS: 1.2480\n",
            "ITER 74000 (61.43%) LOSS: 1.1999\n",
            "ITER 75000 (62.26%) LOSS: 1.2153\n",
            "ITER 76000 (63.09%) LOSS: 1.1924\n",
            "ITER 77000 (63.92%) LOSS: 1.1631\n",
            "ITER 78000 (64.75%) LOSS: 1.2229\n",
            "ITER 79000 (65.58%) LOSS: 1.1857\n",
            "ITER 80000 (66.41%) LOSS: 1.1396\n",
            "ITER 81000 (67.24%) LOSS: 1.2091\n",
            "ITER 82000 (68.07%) LOSS: 1.1049\n",
            "ITER 83000 (68.90%) LOSS: 1.1801\n",
            "ITER 84000 (69.73%) LOSS: 1.1557\n",
            "ITER 85000 (70.56%) LOSS: 1.1763\n",
            "ITER 86000 (71.39%) LOSS: 1.1729\n",
            "ITER 87000 (72.22%) LOSS: 1.1869\n",
            "ITER 88000 (73.05%) LOSS: 1.2036\n",
            "ITER 89000 (73.88%) LOSS: 1.1755\n",
            "ITER 90000 (74.71%) LOSS: 1.1866\n",
            "ITER 91000 (75.54%) LOSS: 1.1306\n",
            "ITER 92000 (76.37%) LOSS: 1.0985\n",
            "ITER 93000 (77.20%) LOSS: 1.1456\n",
            "ITER 94000 (78.03%) LOSS: 1.1213\n",
            "ITER 95000 (78.86%) LOSS: 1.1459\n",
            "ITER 96000 (79.69%) LOSS: 1.1437\n",
            "ITER 97000 (80.52%) LOSS: 1.0972\n",
            "ITER 98000 (81.35%) LOSS: 1.0896\n",
            "ITER 99000 (82.18%) LOSS: 1.0943\n",
            "ITER 100000 (83.01%) LOSS: 1.1031\n",
            "ITER 101000 (83.84%) LOSS: 1.1088\n",
            "ITER 102000 (84.67%) LOSS: 1.0951\n",
            "ITER 103000 (85.50%) LOSS: 1.1027\n",
            "ITER 104000 (86.33%) LOSS: 1.1071\n",
            "ITER 105000 (87.16%) LOSS: 1.0701\n",
            "ITER 106000 (87.99%) LOSS: 1.0723\n",
            "ITER 107000 (88.82%) LOSS: 1.0790\n",
            "ITER 108000 (89.65%) LOSS: 1.0604\n",
            "ITER 109000 (90.48%) LOSS: 1.0734\n",
            "ITER 110000 (91.31%) LOSS: 1.0480\n",
            "ITER 111000 (92.14%) LOSS: 1.0668\n",
            "ITER 112000 (92.97%) LOSS: 1.1170\n",
            "ITER 113000 (93.80%) LOSS: 1.1186\n",
            "ITER 114000 (94.63%) LOSS: 1.0585\n",
            "ITER 115000 (95.46%) LOSS: 1.0478\n",
            "ITER 116000 (96.29%) LOSS: 1.0751\n",
            "ITER 117000 (97.12%) LOSS: 1.0829\n",
            "ITER 118000 (97.95%) LOSS: 1.0843\n",
            "ITER 119000 (98.78%) LOSS: 1.0720\n",
            "ITER 120000 (99.61%) LOSS: 1.1184\n"
          ],
          "name": "stdout"
        }
      ]
    },
    {
      "cell_type": "code",
      "metadata": {
        "id": "7A79d1Z-ftZD",
        "colab_type": "code",
        "colab": {
          "base_uri": "https://localhost:8080/",
          "height": 34
        },
        "outputId": "22799401-a4ec-42c2-d553-250581ecf580"
      },
      "source": [
        "evaluate(encoder, decoder)"
      ],
      "execution_count": 36,
      "outputs": [
        {
          "output_type": "stream",
          "text": [
            "ACCURACY: 0.213\n"
          ],
          "name": "stdout"
        }
      ]
    },
    {
      "cell_type": "code",
      "metadata": {
        "id": "Rns4DZxEez-t",
        "colab_type": "code",
        "colab": {}
      },
      "source": [
        "torch.save(encoder, '{}/My Drive/Colab Notebooks/hola/data/encoder.pt'.format(mounted_folder_fp))\n",
        "torch.save(decoder, '{}/My Drive/Colab Notebooks/hola/data/decoder.pt'.format(mounted_folder_fp))"
      ],
      "execution_count": 0,
      "outputs": []
    }
  ]
}